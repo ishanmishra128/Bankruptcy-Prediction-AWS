{
 "cells": [
  {
   "cell_type": "markdown",
   "metadata": {},
   "source": [
    "# Bankruptcy Prediction - Exploratory Data Analysis\n",
    "\n",
    "This notebook performs exploratory data analysis on financial datasets for bankruptcy prediction.\n",
    "\n",
    "## Objectives\n",
    "- Load and understand the financial data\n",
    "- Analyze distributions and correlations\n",
    "- Identify key features for bankruptcy prediction\n",
    "- Visualize financial health indicators"
   ]
  },
  {
   "cell_type": "code",
   "execution_count": null,
   "metadata": {},
   "outputs": [],
   "source": [
    "# Import libraries\n",
    "import pandas as pd\n",
    "import numpy as np\n",
    "import matplotlib.pyplot as plt\n",
    "import seaborn as sns\n",
    "import boto3\n",
    "from io import StringIO\n",
    "\n",
    "# Set visualization style\n",
    "sns.set_style('whitegrid')\n",
    "plt.rcParams['figure.figsize'] = (12, 6)\n",
    "\n",
    "print('Libraries imported successfully')"
   ]
  },
  {
   "cell_type": "code",
   "execution_count": null,
   "metadata": {},
   "outputs": [],
   "source": [
    "# Load data from S3\n",
    "s3_client = boto3.client('s3')\n",
    "bucket_name = 'bankruptcy-data-lake-prod'\n",
    "file_key = 'processed/feature_engineered/data.csv'\n",
    "\n",
    "# Read data\n",
    "# df = pd.read_csv(f's3://{bucket_name}/{file_key}')\n",
    "\n",
    "# For demonstration, create sample data\n",
    "np.random.seed(42)\n",
    "n_samples = 1000\n",
    "\n",
    "df = pd.DataFrame({\n",
    "    'company_id': range(n_samples),\n",
    "    'fiscal_year': np.random.choice([2020, 2021, 2022, 2023], n_samples),\n",
    "    'total_assets': np.random.lognormal(15, 2, n_samples),\n",
    "    'total_liabilities': np.random.lognormal(14.5, 2, n_samples),\n",
    "    'revenue': np.random.lognormal(14, 1.5, n_samples),\n",
    "    'net_income': np.random.normal(1e6, 5e5, n_samples),\n",
    "    'current_ratio': np.random.gamma(2, 0.5, n_samples),\n",
    "    'debt_to_equity': np.random.gamma(2, 0.3, n_samples),\n",
    "    'roa': np.random.normal(0.05, 0.03, n_samples),\n",
    "    'altman_z_score': np.random.normal(2.5, 1.2, n_samples),\n",
    "    'bankruptcy_status': np.random.choice([0, 1], n_samples, p=[0.95, 0.05])\n",
    "})\n",
    "\n",
    "print(f'Data loaded: {len(df)} rows, {len(df.columns)} columns')\n",
    "df.head()"
   ]
  },
  {
   "cell_type": "code",
   "execution_count": null,
   "metadata": {},
   "outputs": [],
   "source": [
    "# Basic statistics\n",
    "print('Dataset Statistics:')\n",
    "print(df.describe())\n",
    "\n",
    "print('\\nBankruptcy Distribution:')\n",
    "print(df['bankruptcy_status'].value_counts())\n",
    "print(f'\\nBankruptcy Rate: {df[\"bankruptcy_status\"].mean():.2%}')"
   ]
  },
  {
   "cell_type": "code",
   "execution_count": null,
   "metadata": {},
   "outputs": [],
   "source": [
    "# Visualize bankruptcy distribution\n",
    "fig, axes = plt.subplots(1, 2, figsize=(14, 5))\n",
    "\n",
    "# Count plot\n",
    "df['bankruptcy_status'].value_counts().plot(kind='bar', ax=axes[0])\n",
    "axes[0].set_title('Bankruptcy Status Distribution')\n",
    "axes[0].set_xlabel('Status (0=Not Bankrupt, 1=Bankrupt)')\n",
    "axes[0].set_ylabel('Count')\n",
    "\n",
    "# Pie chart\n",
    "df['bankruptcy_status'].value_counts().plot(kind='pie', ax=axes[1], autopct='%1.1f%%')\n",
    "axes[1].set_title('Bankruptcy Status Proportion')\n",
    "axes[1].set_ylabel('')\n",
    "\n",
    "plt.tight_layout()\n",
    "plt.show()"
   ]
  },
  {
   "cell_type": "code",
   "execution_count": null,
   "metadata": {},
   "outputs": [],
   "source": [
    "# Financial ratios distribution\n",
    "fig, axes = plt.subplots(2, 2, figsize=(14, 10))\n",
    "\n",
    "# Current Ratio\n",
    "sns.histplot(data=df, x='current_ratio', hue='bankruptcy_status', ax=axes[0, 0], kde=True)\n",
    "axes[0, 0].set_title('Current Ratio Distribution')\n",
    "\n",
    "# Debt to Equity\n",
    "sns.histplot(data=df, x='debt_to_equity', hue='bankruptcy_status', ax=axes[0, 1], kde=True)\n",
    "axes[0, 1].set_title('Debt to Equity Distribution')\n",
    "\n",
    "# ROA\n",
    "sns.histplot(data=df, x='roa', hue='bankruptcy_status', ax=axes[1, 0], kde=True)\n",
    "axes[1, 0].set_title('Return on Assets Distribution')\n",
    "\n",
    "# Altman Z-Score\n",
    "sns.histplot(data=df, x='altman_z_score', hue='bankruptcy_status', ax=axes[1, 1], kde=True)\n",
    "axes[1, 1].set_title('Altman Z-Score Distribution')\n",
    "\n",
    "plt.tight_layout()\n",
    "plt.show()"
   ]
  },
  {
   "cell_type": "code",
   "execution_count": null,
   "metadata": {},
   "outputs": [],
   "source": [
    "# Correlation analysis\n",
    "numeric_cols = ['total_assets', 'total_liabilities', 'revenue', 'net_income',\n",
    "                'current_ratio', 'debt_to_equity', 'roa', 'altman_z_score', 'bankruptcy_status']\n",
    "\n",
    "correlation_matrix = df[numeric_cols].corr()\n",
    "\n",
    "plt.figure(figsize=(12, 10))\n",
    "sns.heatmap(correlation_matrix, annot=True, fmt='.2f', cmap='coolwarm', center=0)\n",
    "plt.title('Feature Correlation Heatmap')\n",
    "plt.tight_layout()\n",
    "plt.show()\n",
    "\n",
    "print('\\nCorrelation with Bankruptcy Status:')\n",
    "print(correlation_matrix['bankruptcy_status'].sort_values(ascending=False))"
   ]
  },
  {
   "cell_type": "code",
   "execution_count": null,
   "metadata": {},
   "outputs": [],
   "source": [
    "# Box plots for key metrics\n",
    "fig, axes = plt.subplots(1, 3, figsize=(16, 5))\n",
    "\n",
    "sns.boxplot(data=df, x='bankruptcy_status', y='altman_z_score', ax=axes[0])\n",
    "axes[0].set_title('Altman Z-Score by Bankruptcy Status')\n",
    "\n",
    "sns.boxplot(data=df, x='bankruptcy_status', y='current_ratio', ax=axes[1])\n",
    "axes[1].set_title('Current Ratio by Bankruptcy Status')\n",
    "\n",
    "sns.boxplot(data=df, x='bankruptcy_status', y='roa', ax=axes[2])\n",
    "axes[2].set_title('ROA by Bankruptcy Status')\n",
    "\n",
    "plt.tight_layout()\n",
    "plt.show()"
   ]
  },
  {
   "cell_type": "markdown",
   "metadata": {},
   "source": [
    "## Key Findings\n",
    "\n",
    "1. **Class Imbalance**: The dataset shows significant imbalance with ~95% non-bankrupt companies\n",
    "2. **Altman Z-Score**: Strong indicator of bankruptcy risk\n",
    "3. **Financial Ratios**: Current ratio and debt-to-equity show clear separation between classes\n",
    "4. **Feature Importance**: Need to use techniques like SMOTE to handle class imbalance\n",
    "\n",
    "## Next Steps\n",
    "\n",
    "- Feature engineering and selection\n",
    "- Model training with class balancing\n",
    "- Hyperparameter tuning\n",
    "- Model evaluation with focus on recall (minimize false negatives)"
   ]
  }
 ],
 "metadata": {
  "kernelspec": {
   "display_name": "Python 3",
   "language": "python",
   "name": "python3"
  },
  "language_info": {
   "codemirror_mode": {
    "name": "ipython",
    "version": 3
   },
   "file_extension": ".py",
   "mimetype": "text/x-python",
   "name": "python",
   "nbconvert_exporter": "python",
   "pygments_lexer": "ipython3",
   "version": "3.8.0"
  }
 },
 "nbformat": 4,
 "nbformat_minor": 4
}
